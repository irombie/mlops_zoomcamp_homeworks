{
 "cells": [
  {
   "cell_type": "markdown",
   "id": "cfd87d82",
   "metadata": {},
   "source": [
    "# MLOps ZoomCamp Homework 1 \n",
    "\n",
    "## by Irem Ergun\n",
    "\n",
    "Link to the homework description: https://github.com/DataTalksClub/mlops-zoomcamp/blob/main/01-intro/homework.md\n"
   ]
  },
  {
   "cell_type": "markdown",
   "id": "1ae3c7e4",
   "metadata": {},
   "source": [
    "We start by importing the required libraries and downloading two libraries for reading parquet files. "
   ]
  },
  {
   "cell_type": "code",
   "execution_count": 1,
   "id": "96252817",
   "metadata": {},
   "outputs": [],
   "source": [
    "import pandas as pd\n",
    "import numpy as np\n",
    "import matplotlib.pyplot as plt\n",
    "from sklearn.feature_extraction import DictVectorizer\n",
    "from sklearn.linear_model import LinearRegression\n",
    "from sklearn.metrics import mean_squared_error\n",
    "\n",
    "import seaborn as sns\n",
    "\n",
    "# !pip3 install pyarrow\n",
    "# !pip3 install fastparquet\n"
   ]
  },
  {
   "cell_type": "markdown",
   "id": "69365619",
   "metadata": {},
   "source": [
    "### Question 1. \n",
    "\n",
    "We read the data into a Pandas dataframe and output the length of the dataframe, which is 1154112 and our answer."
   ]
  },
  {
   "cell_type": "code",
   "execution_count": 2,
   "id": "2ca0a9d3",
   "metadata": {},
   "outputs": [
    {
     "name": "stdout",
     "output_type": "stream",
     "text": [
      "1154112\n"
     ]
    }
   ],
   "source": [
    "df_jan = pd.read_parquet(\"../../data/fhv_tripdata_2021-01.parquet\")\n",
    "df_jan.head()\n",
    "print(len(df_jan))"
   ]
  },
  {
   "cell_type": "markdown",
   "id": "65c3f02e",
   "metadata": {},
   "source": [
    "### Question 2. \n",
    "\n",
    "The average trip time is 19 minutes and 10-ish seconds. "
   ]
  },
  {
   "cell_type": "code",
   "execution_count": 3,
   "id": "78e559c2",
   "metadata": {},
   "outputs": [
    {
     "data": {
      "text/plain": [
       "Timedelta('0 days 00:19:10.033445627')"
      ]
     },
     "execution_count": 3,
     "metadata": {},
     "output_type": "execute_result"
    }
   ],
   "source": [
    "df_jan[\"duration\"] = df_jan[\"dropOff_datetime\"]-df_jan[\"pickup_datetime\"]\n",
    "df_jan[\"duration\"].mean()"
   ]
  },
  {
   "cell_type": "markdown",
   "id": "4a0e3299",
   "metadata": {},
   "source": [
    "### Data preparation\n",
    "\n",
    "We convert the duration values to minutes, delete the trips which are shorter than 1 minute and longer than 60 minutes as they are outliers. Now, our dataframe has 1107511 data points, which means that we have removed 46601 of them. "
   ]
  },
  {
   "cell_type": "code",
   "execution_count": 4,
   "id": "bb479bdd",
   "metadata": {},
   "outputs": [
    {
     "data": {
      "text/plain": [
       "1109826"
      ]
     },
     "execution_count": 4,
     "metadata": {},
     "output_type": "execute_result"
    }
   ],
   "source": [
    "df_jan[\"duration_minutes\"] = df_jan.duration.apply(lambda td: td.total_seconds() / 60)\n",
    "\n",
    "df_jan.head()\n",
    "# df_dup = df_jan #uncomment this line for the bonus part\n",
    "df_jan =df_jan[(df_jan[\"duration_minutes\"]<=60)&(df_jan[\"duration_minutes\"]>=1)] \n",
    "\n",
    "len(df_jan)"
   ]
  },
  {
   "cell_type": "markdown",
   "id": "1de4f618",
   "metadata": {},
   "source": [
    "$\\textbf{BONUS: not actually a part of the homework}$ \n",
    "\n",
    "We were asked to drop the trips that are not between 1 and 60 minutes. However, if we would like to understand why this is the case, here is some code to explore this reasoning. Play around with ```cutoff``` to see how the histogram will change. If you run this cell with line 4 commented out, you will most likely not be able to observe a meaningful histogram since just a few groups will dominate the others in size. That is exactly what we mean when we talk about outliers. \n",
    "\n",
    "You can also play around with the ```ran``` variable to group the trimmed dataset into groups of different sizes.\n",
    "\n",
    "But we observe that if we keep cutoff as 60, we get back a very well structured histogram, which is precisely what we want! Comment out the upcoming three cells and play around with the values as instructed if you wish :) "
   ]
  },
  {
   "cell_type": "code",
   "execution_count": 5,
   "id": "f44106f9",
   "metadata": {},
   "outputs": [],
   "source": [
    "# df_temp = df_dup[[\"duration_minutes\",\"duration\"]] \n",
    "\n",
    "# cutoff = 60\n",
    "# # print(df_temp.duration_minutes.describe(percentiles=[0.95,0.98,0.99]))\n",
    "# df_temp =df_temp[(df_temp[\"duration_minutes\"]<=cutoff)&(df_temp[\"duration_minutes\"]>=1)] \n",
    "\n",
    "# mini = df_temp[\"duration_minutes\"].min()\n",
    "\n",
    "# maxi = df_temp[\"duration_minutes\"].max()\n",
    "\n",
    "\n",
    "\n",
    "# ranges =[]\n",
    "# ran = 5\n",
    "# for i in np.arange(mini, maxi+ran, ran):\n",
    "#     ranges.append(i)\n",
    "    \n",
    "# print(len(ranges))\n",
    "\n",
    "\n",
    "# df_grouped = df_temp.groupby(pd.cut(df_temp.duration_minutes, ranges)).count()\n",
    "\n",
    "# df_grouped.index.name = \"range\"\n",
    "\n",
    "# df_grouped = df_grouped.reset_index()\n",
    "\n",
    "\n",
    "\n",
    "# df_grouped.head(20)"
   ]
  },
  {
   "cell_type": "code",
   "execution_count": 6,
   "id": "7a13265f",
   "metadata": {},
   "outputs": [],
   "source": [
    "# plt.hist(df_temp[\"duration_minutes\"])\n",
    "\n",
    "# plt.plot()\n",
    "# plt.title(\"Histogram of trip durations\")\n",
    "# plt.show()"
   ]
  },
  {
   "cell_type": "markdown",
   "id": "f00bc645",
   "metadata": {},
   "source": [
    "You can also use ```percentile``` function visualize which percentage of the trips lies in which intervals. "
   ]
  },
  {
   "cell_type": "code",
   "execution_count": 7,
   "id": "829ef642",
   "metadata": {},
   "outputs": [],
   "source": [
    "# df_dup[\"duration_minutes\"].describe(percentiles=[0.95,0.98])"
   ]
  },
  {
   "cell_type": "markdown",
   "id": "b13a1dde",
   "metadata": {},
   "source": [
    "Anyway, let us get back to the homework! "
   ]
  },
  {
   "cell_type": "markdown",
   "id": "15505cfd",
   "metadata": {},
   "source": [
    "### Question 3. \n",
    "\n",
    "Filling missing values with -1. Seems like 83% of the pickup locations were missing to begin with."
   ]
  },
  {
   "cell_type": "code",
   "execution_count": 8,
   "id": "a8502b49",
   "metadata": {},
   "outputs": [
    {
     "name": "stdout",
     "output_type": "stream",
     "text": [
      "0.8352732770722617\n"
     ]
    }
   ],
   "source": [
    "locs_pickup = df_jan[df_jan['PUlocationID'].isna()]\n",
    "\n",
    "print(len(locs_pickup)/len(df_jan))\n",
    "\n",
    "\n",
    "df_jan[\"PUlocationID\"]=df_jan['PUlocationID'].copy().fillna(-1)\n",
    "\n",
    "df_jan['DOlocationID'] = df_jan['DOlocationID'].copy().fillna(-1)\n",
    "\n",
    "\n",
    "\n",
    "\n",
    "\n"
   ]
  },
  {
   "cell_type": "markdown",
   "id": "cf2793dd",
   "metadata": {},
   "source": [
    "### Question 4. \n",
    "\n",
    "\n",
    "The number of columns of this vectorized train data is 526."
   ]
  },
  {
   "cell_type": "code",
   "execution_count": 9,
   "id": "889ed8b7",
   "metadata": {},
   "outputs": [],
   "source": [
    "categorical = ['PUlocationID', 'DOlocationID']\n",
    "\n",
    "\n",
    "df_jan[categorical] = df_jan[categorical].astype(str)\n",
    "\n",
    "train_dict = df_jan[categorical].to_dict(orient='records')"
   ]
  },
  {
   "cell_type": "code",
   "execution_count": 10,
   "id": "24cd7743",
   "metadata": {},
   "outputs": [
    {
     "name": "stdout",
     "output_type": "stream",
     "text": [
      "(1109826, 525)\n"
     ]
    }
   ],
   "source": [
    "dv = DictVectorizer()\n",
    "X_train = dv.fit_transform(train_dict)\n",
    "\n",
    "\n",
    "print(X_train.shape)\n"
   ]
  },
  {
   "cell_type": "markdown",
   "id": "aa96dfdf",
   "metadata": {},
   "source": [
    "### Question 5. \n",
    "\n",
    "RMSE is around 10.5.\n",
    "\n",
    "\n",
    "Note: Previously, I found out that RMSE was around $4\\times10^{-7}$, which was too good to be true. Then, I realized that I had a data leak in my model, namely I used the target values along with the actual features during training. Once I fixed that, the problem was solved. "
   ]
  },
  {
   "cell_type": "code",
   "execution_count": 11,
   "id": "9de36e5d",
   "metadata": {},
   "outputs": [],
   "source": [
    "target = 'duration_minutes'\n",
    "y_train = df_jan[target].values\n",
    "\n",
    "# print(y_train)"
   ]
  },
  {
   "cell_type": "code",
   "execution_count": 12,
   "id": "fafb210d",
   "metadata": {},
   "outputs": [
    {
     "data": {
      "text/plain": [
       "10.528519107205634"
      ]
     },
     "execution_count": 12,
     "metadata": {},
     "output_type": "execute_result"
    }
   ],
   "source": [
    "lr = LinearRegression()\n",
    "lr.fit(X_train, y_train)\n",
    "\n",
    "y_pred = lr.predict(X_train)\n",
    "# print(y_pred)\n",
    "\n",
    "mean_squared_error(y_train, y_pred, squared=False)"
   ]
  },
  {
   "cell_type": "code",
   "execution_count": 13,
   "id": "73d69c54",
   "metadata": {},
   "outputs": [
    {
     "name": "stderr",
     "output_type": "stream",
     "text": [
      "/usr/local/lib/python3.9/site-packages/seaborn/distributions.py:2619: FutureWarning: `distplot` is a deprecated function and will be removed in a future version. Please adapt your code to use either `displot` (a figure-level function with similar flexibility) or `histplot` (an axes-level function for histograms).\n",
      "  warnings.warn(msg, FutureWarning)\n",
      "/usr/local/lib/python3.9/site-packages/seaborn/distributions.py:2619: FutureWarning: `distplot` is a deprecated function and will be removed in a future version. Please adapt your code to use either `displot` (a figure-level function with similar flexibility) or `histplot` (an axes-level function for histograms).\n",
      "  warnings.warn(msg, FutureWarning)\n"
     ]
    },
    {
     "data": {
      "text/plain": [
       "<matplotlib.legend.Legend at 0x134f4fa30>"
      ]
     },
     "execution_count": 13,
     "metadata": {},
     "output_type": "execute_result"
    },
    {
     "data": {
      "image/png": "[encoded data removed]",
      "text/plain": [
       "<Figure size 432x288 with 1 Axes>"
      ]
     },
     "metadata": {
      "needs_background": "light"
     },
     "output_type": "display_data"
    }
   ],
   "source": [
    "sns.distplot(y_pred, label='prediction')\n",
    "sns.distplot(y_train, label='actual')\n",
    "\n",
    "plt.legend()"
   ]
  },
  {
   "cell_type": "markdown",
   "id": "5ce874ea",
   "metadata": {},
   "source": [
    "### Question 6. \n",
    "\n",
    "RMSE is around 12.6.\n",
    "\n",
    "\n",
    "Note: Previous data leak issue resulted in this value being around $5\\times10^{-7}$. Now, it is fixed."
   ]
  },
  {
   "cell_type": "code",
   "execution_count": 14,
   "id": "53694ae2",
   "metadata": {},
   "outputs": [],
   "source": [
    "df_feb = pd.read_parquet(\"../../data/fhv_tripdata_2021-02.parquet\")"
   ]
  },
  {
   "cell_type": "code",
   "execution_count": 15,
   "id": "ded659de",
   "metadata": {},
   "outputs": [],
   "source": [
    "df_feb[\"duration\"] = df_feb[\"dropOff_datetime\"]-df_feb[\"pickup_datetime\"]\n",
    "\n",
    "df_feb[\"duration_minutes\"] = df_jan.duration.apply(lambda td: td.total_seconds() / 60)\n",
    "df_feb['PUlocationID'] = df_feb['PUlocationID'].fillna(-1)\n",
    "df_feb['DOlocationID'] = df_feb['DOlocationID'].fillna(-1)\n",
    "\n",
    "df_feb = df_feb.dropna(subset=[\"duration_minutes\"])\n",
    "\n",
    "\n",
    "categorical = ['PUlocationID', 'DOlocationID']\n",
    "\n",
    "\n",
    "df_feb[categorical] = df_feb[categorical].astype(str)\n",
    "\n",
    "\n",
    "\n",
    "test_dict = df_feb[categorical].to_dict(orient='records')\n"
   ]
  },
  {
   "cell_type": "code",
   "execution_count": 16,
   "id": "2e804b28",
   "metadata": {},
   "outputs": [],
   "source": [
    "target = \"duration_minutes\"\n",
    "X_test = dv.transform(test_dict)\n",
    "y_test = df_feb[target].values\n",
    "\n",
    "\n",
    "y_pred_test = lr.predict(X_test)\n",
    "\n",
    "\n"
   ]
  },
  {
   "cell_type": "code",
   "execution_count": 17,
   "id": "88eabf7b",
   "metadata": {},
   "outputs": [
    {
     "name": "stdout",
     "output_type": "stream",
     "text": [
      "12.55920139305188\n"
     ]
    },
    {
     "name": "stderr",
     "output_type": "stream",
     "text": [
      "/usr/local/lib/python3.9/site-packages/seaborn/distributions.py:2619: FutureWarning: `distplot` is a deprecated function and will be removed in a future version. Please adapt your code to use either `displot` (a figure-level function with similar flexibility) or `histplot` (an axes-level function for histograms).\n",
      "  warnings.warn(msg, FutureWarning)\n",
      "/usr/local/lib/python3.9/site-packages/seaborn/distributions.py:2619: FutureWarning: `distplot` is a deprecated function and will be removed in a future version. Please adapt your code to use either `displot` (a figure-level function with similar flexibility) or `histplot` (an axes-level function for histograms).\n",
      "  warnings.warn(msg, FutureWarning)\n"
     ]
    },
    {
     "data": {
      "text/plain": [
       "<matplotlib.legend.Legend at 0x170339040>"
      ]
     },
     "execution_count": 17,
     "metadata": {},
     "output_type": "execute_result"
    },
    {
     "data": {
      "image/png": "[encoded data removed]",
      "text/plain": [
       "<Figure size 432x288 with 1 Axes>"
      ]
     },
     "metadata": {
      "needs_background": "light"
     },
     "output_type": "display_data"
    }
   ],
   "source": [
    "print(mean_squared_error(y_test, y_pred_test, squared=False))\n",
    "\n",
    "sns.distplot(y_pred_test, label='prediction')\n",
    "sns.distplot(y_test, label='actual')\n",
    "\n",
    "plt.legend()"
   ]
  },
  {
   "cell_type": "markdown",
   "id": "24559cef",
   "metadata": {},
   "source": [
    "Note: Feedback is much appreciated, thank you!"
   ]
  },
  {
   "cell_type": "code",
   "execution_count": null,
   "id": "7e4e5ddd",
   "metadata": {},
   "outputs": [],
   "source": []
  }
 ],
 "metadata": {
  "kernelspec": {
   "display_name": "Python 3 (ipykernel)",
   "language": "python",
   "name": "python3"
  },
  "language_info": {
   "codemirror_mode": {
    "name": "ipython",
    "version": 3
   },
   "file_extension": ".py",
   "mimetype": "text/x-python",
   "name": "python",
   "nbconvert_exporter": "python",
   "pygments_lexer": "ipython3",
   "version": "3.9.5"
  }
 },
 "nbformat": 4,
 "nbformat_minor": 5
}
